{  
  "nbformat": 4,
  "nbformat_minor": 0,
  "metadata": {
    "colab": {
      "name": "01_linear_regression.ipynb",
      "version": "0.3.2",
      "provenance": [],
      "collapsed_sections": []
    },
    "language_info": {
      "codemirror_mode": {
        "name": "ipython",
        "version": 2
      },
      "file_extension": ".py",
      "mimetype": "text/x-python",
      "name": "python",
      "nbconvert_exporter": "python",
      "pygments_lexer": "ipython2",
      "version": "2.7.10"
    },
    "kernelspec": {
      "name": "python3",
      "display_name": "Python 3"
    },
    "accelerator": "GPU"
  },
  "cells": [
    {
      "cell_type": "markdown",
      "metadata": {
        "id": "I-S9EwVjCGwX",
        "colab_type": "text"
      },
      "source": [
        "# Deep Learning for Computer Vision with TensorFlow 2.0\n",
        "\n",
        "Table of contents:\n",
        "[Lab 0](https://colab.research.google.com/github/embedded-vision/dlcvtf2/blob/master/00_test_install.ipynb) | \n",
        "[Lab 1](https://colab.research.google.com/github/embedded-vision/dlcvtf2/blob/master/01_linear_regression.ipynb) | \n",
        "[Lab 2](https://colab.research.google.com/github/embedded-vision/dlcvtf2/blob/master/02_tensorflow_logistic_regression.ipynb) | \n",
        "[Lab 3a](https://colab.research.google.com/github/embedded-vision/dlcvtf2/blob/master/03a_tensorflow_deep_network.ipynb) | \n",
        "[Lab 3b](https://colab.research.google.com/github/embedded-vision/dlcvtf2/blob/master/03b_deep_mnist_visualize.ipynb) | \n",
        "[Lab 4](https://colab.research.google.com/github/embedded-vision/dlcvtf2/blob/master/04_mnist_cnn.ipynb) | \n",
        "[Lab 5](https://colab.research.google.com/github/embedded-vision/dlcvtf2/blob/master/05_data_prep.ipynb) | \n",
        "[Lab 6](https://colab.research.google.com/github/embedded-vision/dlcvtf2/blob/master/06_transfer_learning.ipynb) | \n",
        "\n",
        "# Lab 1: Linear Regression\n",
        "\n",
        "If you ever want to start over just go to the menu at the top and select Runtime ->  Restart runtime.  (Please do not use Runtime -> Reset all runtimes.)"
      ]
    },
    {
      "cell_type": "markdown",
      "metadata": {
        "id": "K8OIW124_xS6",
        "colab_type": "text"
      },
      "source": [
        "In this exerise you will apply what you learned in the lecture to experiment with a working linear regression model. The model will be very similar to the one discussed in the lecture. You will run the Colab cells below, to create the model, train the model, and test the output."
      ]
    },
    {
      "cell_type": "markdown",
      "metadata": {
        "id": "veeOvh1NAO-E",
        "colab_type": "text"
      },
      "source": [
        "This first cell makes sure that you have TensorFlow 2.0 installed, and imports needed libraries."
      ]
    },
    {
      "cell_type": "code",
      "metadata": {
        "id": "ZIVGU2V5_xS8",
        "colab_type": "code",
        "colab": {}
      },
      "source": [
        "# Cell 1.1\n",
        "%tensorflow_version 2.x\n",
        "import tensorflow as tf\n",
        "if tf.__version__ != \"2.0.0\":\n",
        "    !pip install tensorflow-gpu==2.0.0\n",
        "    print(\"Please go to Runtime -> restart runtime and then, once that finishes, rerun this cell.\")\n",
        "\n",
        "import numpy as np\n",
        "from tensorflow import keras\n",
        "from tensorflow.keras import layers\n",
        "\n",
        "# A special command for IPython Notebooks that\n",
        "# intructs Matplotlib to display plots in the notebook\n",
        "%pylab inline\n",
        "\n",
        "print ('cell finished')"
      ],
      "execution_count": 0,
      "outputs": []
    },
    {
      "cell_type": "markdown",
      "metadata": {
        "id": "vGNCUm_u7UKF",
        "colab_type": "text"
      },
      "source": [
        "This cell checks to make sure you are running on a GPU colab instance. If you don't, you'll need to change the runtime type."
      ]
    },
    {
      "cell_type": "code",
      "metadata": {
        "id": "dyFqajrM7PXY",
        "colab_type": "code",
        "colab": {}
      },
      "source": [
        "# Cell 1.2\n",
        "device_name = tf.test.gpu_device_name()\n",
        "if device_name != '/device:GPU:0':\n",
        "  raise SystemError('GPU not found. Please go to Runtime -> Change runtime type and select a GPU hardware accelerator')\n",
        "print ('Found GPU at: {}'.format(device_name))\n",
        "print ('cell finished')"
      ],
      "execution_count": 0,
      "outputs": []
    },
    {
      "cell_type": "markdown",
      "metadata": {
        "id": "CjKOF2lK_xS_",
        "colab_type": "text"
      },
      "source": [
        "This next cell defines variables PERSQFT and BASE that will be used to generate the test data. Variable PERSQFT is the cost per house square foot divided by 1000. Variable BASE helps with tiny houses so that the price doesn't go to 0 for a very small house. (Notice that the price per sq ft is based on a cheap house in California)\n",
        "\n",
        "Variables PERSQFT and BASE will be the correct values that the model tries to learn from the data. Here we are using them to generate the training data so that we can see if the model can learn those values.\n",
        "\n",
        "Defining them in a separate cell allows you to easily change the values. You can experiment with the learning rate and number of EPOCHS to see if it makes a difference during training"
      ]
    },
    {
      "cell_type": "code",
      "metadata": {
        "id": "zjtdcqvm_xTA",
        "colab_type": "code",
        "colab": {}
      },
      "source": [
        "# Cell 1.3\n",
        "\n",
        "PERSQFT = .4   # $400 per sq ft\n",
        "BASE = .35     # $350K base price \n",
        "\n",
        "LEARNING_RATE = .01\n",
        "EPOCHS = 200\n",
        "ITEMS = 100\n",
        "\n",
        "print ('cell finished')"
      ],
      "execution_count": 0,
      "outputs": []
    },
    {
      "cell_type": "markdown",
      "metadata": {
        "id": "9XyqSDkI_xTC",
        "colab_type": "text"
      },
      "source": [
        "This cell uses the constants from the cell above with a standard python function to create the training data as shown in the lecture."
      ]
    },
    {
      "cell_type": "code",
      "metadata": {
        "id": "Q8X8GrYw_xTD",
        "colab_type": "code",
        "colab": {}
      },
      "source": [
        "# Cell 1.4\n",
        "\n",
        "def make_noisy_data(w=PERSQFT, b=BASE, n=ITEMS):\n",
        "    sqft = np.random.rand(n).astype(np.float32) * 6 # multiply by 6 for max sq ft of 6000\n",
        "    noise = np.random.normal(scale=0.08, size=len(sqft))\n",
        "    price = w * sqft + b + noise\n",
        "    return sqft, price\n",
        "\n",
        "print ('cell finished')"
      ],
      "execution_count": 0,
      "outputs": []
    },
    {
      "cell_type": "markdown",
      "metadata": {
        "id": "u0Z7ibMx_xTE",
        "colab_type": "text"
      },
      "source": [
        "This cell calls the make_noisy_data function and assigns the outputs to two variables sqft_train and price_train. Variable sqft_train will be the x values fed into your linear regression model and price_train will be the expected output."
      ]
    },
    {
      "cell_type": "code",
      "metadata": {
        "id": "fgZh0nMM_xTF",
        "colab_type": "code",
        "colab": {}
      },
      "source": [
        "# Cell 1.5\n",
        "\n",
        "sqft_train, price_train = make_noisy_data()\n",
        "\n",
        "\n",
        "print ('cell finished')"
      ],
      "execution_count": 0,
      "outputs": []
    },
    {
      "cell_type": "markdown",
      "metadata": {
        "id": "3-3DQMEg_xTH",
        "colab_type": "text"
      },
      "source": [
        "This cell plots our training data so that we can get an idea of its general distribution. It is a linear distribution with a bit of noise as specified in the function definition. You can experiment with different noise values to see how the results change."
      ]
    },
    {
      "cell_type": "code",
      "metadata": {
        "id": "aeCLZkmt_xTH",
        "colab_type": "code",
        "colab": {}
      },
      "source": [
        "# Cell 1.6\n",
        "\n",
        "# Run this cell to plot the data.\n",
        "\n",
        "pylab.plot(sqft_train, price_train, 'b.')\n"
      ],
      "execution_count": 0,
      "outputs": []
    },
    {
      "cell_type": "markdown",
      "metadata": {
        "id": "N23ZygdC_xTJ",
        "colab_type": "text"
      },
      "source": [
        "A Keras model will be used to describe the network. As discussed in the lecture, a Keras Dense layer includes variables for each input as well as a bias. The values of these variables will initially be random and learned by the training process. At the end of the training these values should approximate the per sq ft price and the base used to create the training data. Why wouldn't they be exact?"
      ]
    },
    {
      "cell_type": "code",
      "metadata": {
        "id": "1TPObKlz_xTK",
        "colab_type": "code",
        "colab": {}
      },
      "source": [
        "# Cell 1.7\n",
        "\n",
        "def model():\n",
        "    model = keras.Sequential([\n",
        "    layers.Dense(1, input_shape=[1])\n",
        "  ])\n",
        "    return model\n",
        "\n",
        "print ('cell finished')"
      ],
      "execution_count": 0,
      "outputs": []
    },
    {
      "cell_type": "markdown",
      "metadata": {
        "id": "TAr5B_jD_xTL",
        "colab_type": "text"
      },
      "source": [
        "The next cell selects an optimizer to update the weight and bias values of the Keras Dense layer. We'll chose the stochastic gradient descent (SGD) optimizer, with a learning rate of 0.01."
      ]
    },
    {
      "cell_type": "code",
      "metadata": {
        "id": "pb8eepOB_xTM",
        "colab_type": "code",
        "colab": {}
      },
      "source": [
        "# Cell 1.8\n",
        "\n",
        "optimizer = tf.keras.optimizers.SGD(0.01)\n",
        "\n",
        "print ('cell finished')"
      ],
      "execution_count": 0,
      "outputs": []
    },
    {
      "cell_type": "markdown",
      "metadata": {
        "id": "eUkFNR5t_xTO",
        "colab_type": "text"
      },
      "source": [
        "The next cell calls the function that creates the Keras Sequential model. An instance of the model will be stored in variable m1 for use in the training process"
      ]
    },
    {
      "cell_type": "code",
      "metadata": {
        "id": "jRgXfIOn_xTP",
        "colab_type": "code",
        "colab": {}
      },
      "source": [
        "# Cell 1.9\n",
        "\n",
        "m1 = model()\n",
        "\n",
        "print ('cell finished')"
      ],
      "execution_count": 0,
      "outputs": []
    },
    {
      "cell_type": "markdown",
      "metadata": {
        "id": "WrD__1nR_xTQ",
        "colab_type": "text"
      },
      "source": [
        "Before the Keras model can be used it needs to be compiled. The compile will describe a number of parameters that will be used during the training and evaluation process. This includes the optimizer for training, the type of loss to be optimized, and the metrics to report. \n",
        "\n",
        "In this example the optimizer will be the one created above. The loss to optimize will be mse, or mean squared error. The metrics will report both mean squared error and mean absolute error. "
      ]
    },
    {
      "cell_type": "code",
      "metadata": {
        "id": "xQV6xsCJ_xTR",
        "colab_type": "code",
        "colab": {}
      },
      "source": [
        "# Cell 1.10\n",
        "\n",
        "m1.compile(loss='mse',\n",
        "                optimizer=optimizer,\n",
        "                metrics=['mae', 'mse'])\n",
        "\n",
        "print ('cell finished')"
      ],
      "execution_count": 0,
      "outputs": []
    },
    {
      "cell_type": "markdown",
      "metadata": {
        "id": "6SMNXPdO_xTS",
        "colab_type": "text"
      },
      "source": [
        "The following cell calls the summary function on the Keras model. This function will report information about the structure of the Keras model. The report shows that the Keras model has one layer named dense of type Dense. The output shape is 1 and there are 2 trainable parameters. One parameter will be the input weight and the second will be the bias for the output. "
      ]
    },
    {
      "cell_type": "code",
      "metadata": {
        "id": "ZgR4drno_xTT",
        "colab_type": "code",
        "colab": {}
      },
      "source": [
        "# Cell 1.11\n",
        "\n",
        "m1.summary()\n",
        "\n",
        "print ('cell finished')"
      ],
      "execution_count": 0,
      "outputs": []
    },
    {
      "cell_type": "markdown",
      "metadata": {
        "id": "r09UOSDb_xTU",
        "colab_type": "text"
      },
      "source": [
        "The next cell will try out the model before training so that we can see that the random weights and bias do not produce the correct results. The model needs to be trained first. The predict function expects an array of values so test_sqft is created as an array. That value is indexed to obtain the expected price. "
      ]
    },
    {
      "cell_type": "code",
      "metadata": {
        "id": "Q4rz83pv_xTV",
        "colab_type": "code",
        "colab": {}
      },
      "source": [
        "# Cell 1.12\n",
        "\n",
        "test_sqft = [[4.0]]\n",
        "expPrice = test_sqft[0][0] * PERSQFT + BASE\n",
        "\n",
        "outval = m1.predict(test_sqft)\n",
        "print (\"price should be [{}] but is {}\".format(expPrice,outval))"
      ],
      "execution_count": 0,
      "outputs": []
    },
    {
      "cell_type": "markdown",
      "metadata": {
        "id": "1hxlXcmu_xTW",
        "colab_type": "text"
      },
      "source": [
        "This cell defines how the linear regression model is trained. The training will use the number of EPOCHS specified in the cell near the top to determine how many iterations to train. Each training iteration will update the values of w and b based on the loss calculated by the optimizer. \n",
        "\n",
        "The metrics are printed for each training epoch so that the progress of the training can be observed. The added value of this is that it can seen when the values start to stabilize and determine whether the learning rate and number of epochs are too small or too large."
      ]
    },
    {
      "cell_type": "code",
      "metadata": {
        "id": "FHSlZM9s_xTX",
        "colab_type": "code",
        "colab": {}
      },
      "source": [
        "# Cell 1.13\n",
        "\n",
        "history = m1.fit(\n",
        "  sqft_train, price_train,\n",
        "  epochs=EPOCHS, verbose=2)\n",
        "\n",
        "print ('cell finished')"
      ],
      "execution_count": 0,
      "outputs": []
    },
    {
      "cell_type": "markdown",
      "metadata": {
        "id": "kICHEWbN_xTY",
        "colab_type": "text"
      },
      "source": [
        "This cell simply prints out the values of our trainable values for price per sq ft and base price. The get_weights function will retrieve the weight values from the model. These are multiplied by 1000 to put them in the format used for describing the model. \n",
        "\n",
        "Since the weight and bias values are arrays, indexing is needed to retrieve them."
      ]
    },
    {
      "cell_type": "code",
      "metadata": {
        "id": "ffyPGv1t_xTY",
        "colab_type": "code",
        "colab": {}
      },
      "source": [
        "# Cell 1.14\n",
        "\n",
        "wval = m1.get_weights()[0][0][0]\n",
        "bval = m1.get_weights()[1][0]\n",
        "print(wval)\n",
        "print (bval)\n",
        "\n",
        "print('per sq ft = {}'.format(wval*1000))\n",
        "print('base price = {}'.format(bval*1000))"
      ],
      "execution_count": 0,
      "outputs": []
    },
    {
      "cell_type": "markdown",
      "metadata": {
        "id": "M7Y-oEeI_xTa",
        "colab_type": "text"
      },
      "source": [
        "Now that the training has run we can plot the values for w and b and see how closely they matched the training data. Ideally the line should bisect the training data. What would be reasons that it did not?"
      ]
    },
    {
      "cell_type": "code",
      "metadata": {
        "id": "FfmlMkmE_xTa",
        "colab_type": "code",
        "colab": {}
      },
      "source": [
        "# Cell 1.15\n",
        "\n",
        "print (\"w: %f, b: %f\" % (wval, bval))\n",
        "pylab.plot(sqft_train, price_train, 'b.')\n",
        "x = np.linspace(0,6,100)\n",
        "y = x * wval + bval\n",
        "pylab.plot(x,y, 'r.')"
      ],
      "execution_count": 0,
      "outputs": []
    },
    {
      "cell_type": "markdown",
      "metadata": {
        "id": "lHITXB2F_xTc",
        "colab_type": "text"
      },
      "source": [
        "As you can see the line fits the data pretty well with the default parameters for EPOCHS and LEARNING_RATE. Are those optimal values? Can you get just as good results with different values?\n",
        "\n",
        "Also experiment with the price per sq ft and base price to make sure the model can still learn the values"
      ]
    },
    {
      "cell_type": "code",
      "metadata": {
        "id": "jU_d0XA7fyU_",
        "colab_type": "code",
        "colab": {}
      },
      "source": [
        ""
      ],
      "execution_count": 0,
      "outputs": []
    }
  ]
}
