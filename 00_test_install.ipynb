{  
  "nbformat": 4,
  "nbformat_minor": 0,
  "metadata": {
    "colab": {
      "name": "00_test_install.ipynb",
      "version": "0.3.2",
      "provenance": []
    },
    "language_info": {
      "codemirror_mode": {
        "name": "ipython",
        "version": 2
      },
      "file_extension": ".py",
      "mimetype": "text/x-python",
      "name": "python",
      "nbconvert_exporter": "python",
      "pygments_lexer": "ipython2",
      "version": "2.7.10"
    },
    "kernelspec": {
      "name": "python3",
      "display_name": "Python 3"
    },
    "accelerator": "GPU"
  },
  "cells": [
    {
      "cell_type": "markdown",
      "metadata": {
        "id": "I-S9EwVjCGwX",
        "colab_type": "text"
      },
      "source": [
        "# Deep Learning for Computer Vision with TensorFlow 2.0\n",
        "\n",
        "Table of contents:\n",
        "[Lab 0](https://colab.research.google.com/github/embedded-vision/dlcvtf2/blob/master/00_test_install.ipynb) | \n",
        "[Lab 1](https://colab.research.google.com/github/embedded-vision/dlcvtf2/blob/master/01_linear_regression.ipynb) | \n",
        "[Lab 2](https://colab.research.google.com/github/embedded-vision/dlcvtf2/blob/master/02_tensorflow_logistic_regression.ipynb) | \n",
        "[Lab 3a](https://colab.research.google.com/github/embedded-vision/dlcvtf2/blob/master/03a_tensorflow_deep_network.ipynb) | \n",
        "[Lab 3b](https://colab.research.google.com/github/embedded-vision/dlcvtf2/blob/master/03b_deep_mnist_visualize.ipynb) | \n",
        "[Lab 4](https://colab.research.google.com/github/embedded-vision/dlcvtf2/blob/master/04_mnist_cnn.ipynb) | \n",
        "[Lab 5](https://colab.research.google.com/github/embedded-vision/dlcvtf2/blob/master/05_data_prep.ipynb) | \n",
        "[Lab 6](https://colab.research.google.com/github/embedded-vision/dlcvtf2/blob/master/06_transfer_learning.ipynb) | \n",
        "\n",
        "# Lab 0: Basic Setup and Runtime Instance Configuration\n",
        "\n",
        "This notebook is used to make sure that your Google Colab TensorFlow environment is set up properly.\n",
        "\n",
        "**Important: before you go further, go to the Runtime menu and select \"Change runtime type\" to select GPU.**\n",
        "\n",
        "You can press `shift + enter` to quickly advance through each line of a notebook. Try it! (The arrow just left of the square box will also run a cell if you want to do it that way.)\n",
        "\n",
        "If you ever want to start over just go to the menu at the top and select Runtime ->  Restart runtime.  (Please do not use Runtime -> Reset all runtimes.)"
      ]
    },
    {
      "cell_type": "markdown",
      "metadata": {
        "id": "ABCPyQdxCGwZ",
        "colab_type": "text"
      },
      "source": [
        "This first cell makes sure that you have TensorFlow 2.0 installed, and imports some needed libraries."
      ]
    },
    {
      "cell_type": "code",
      "metadata": {
        "id": "WWekDRKhCGwa",
        "colab_type": "code",
        "colab": {}
      },
      "source": [
        "# Cell 0.1\n",
        "%tensorflow_version 2.x\n",
        "import tensorflow as tf\n",
        "if tf.__version__ != \"2.0.0\":\n",
        "    !pip install tensorflow-gpu==2.0.0\n",
        "    print(\"Please go to Runtime -> restart runtime and then, once that finishes, rerun this cell.\")\n",
        "\n",
        "import numpy as np\n",
        "from tensorflow import keras\n",
        "from tensorflow.keras import layers\n",
        "\n",
        "# A special command for IPython Notebooks that\n",
        "# intructs Matplotlib to display plots in the notebook\n",
        "%pylab inline\n",
        "\n",
        "print(\"You have version %s\" % tf.__version__)\n",
        "\n",
        "print ('cell finished')\n",
        "\n"
      ],
      "execution_count": 0,
      "outputs": []
    },
    {
      "cell_type": "markdown",
      "metadata": {
        "id": "d4GKPhQOCGwe",
        "colab_type": "text"
      },
      "source": [
        "Check if Matplotlib is working. After running this cell, you should see a plot appear below."
      ]
    },
    {
      "cell_type": "code",
      "metadata": {
        "id": "Wh97WnaRCGwf",
        "colab_type": "code",
        "colab": {}
      },
      "source": [
        "# Cell 0.2\n",
        "%pylab inline\n",
        "\n",
        "import numpy as np\n",
        "\n",
        "# create some data using numpy. y = x * 0.1 + 0.3 + noise\n",
        "x = np.random.rand(100).astype(np.float32)\n",
        "noise = np.random.normal(scale=0.01, size=len(x))\n",
        "y = x * 0.1 + 0.3 + noise\n",
        "\n",
        "# plot it\n",
        "pylab.plot(x, y, '.')"
      ],
      "execution_count": 0,
      "outputs": []
    },
    {
      "cell_type": "markdown",
      "metadata": {
        "id": "Cf2DTWYfCGwh",
        "colab_type": "text"
      },
      "source": [
        "Check if Numpy and Pillow are working. After running this cell, you should see a random image appear below."
      ]
    },
    {
      "cell_type": "code",
      "metadata": {
        "id": "hnUNHK3OCGwi",
        "colab_type": "code",
        "colab": {}
      },
      "source": [
        "# Cell 0.3\n",
        "import PIL.Image as Image\n",
        "import numpy as np\n",
        "from matplotlib.pyplot import imshow\n",
        "\n",
        "image_array = np.random.rand(200,200,3) * 255\n",
        "img = Image.fromarray(image_array.astype('uint8')).convert('RGBA')\n",
        "imshow(np.asarray(img))"
      ],
      "execution_count": 0,
      "outputs": []
    },
    {
      "cell_type": "markdown",
      "metadata": {
        "id": "epZbmVwQCGwo",
        "colab_type": "text"
      },
      "source": [
        "That's it! You're ready to start the training!"
      ]
    },
    {
      "cell_type": "code",
      "metadata": {
        "id": "Nvil6RqwCGwp",
        "colab_type": "code",
        "colab": {}
      },
      "source": [
        ""
      ],
      "execution_count": 0,
      "outputs": []
    }
  ]
}
